{
 "cells": [
  {
   "cell_type": "markdown",
   "metadata": {},
   "source": [
    "## Assignments\n",
    "\n",
    "Now that we have introduced some tools for describing populations, let's try them out. First do these drills by hand, then use the Python code we've provided in the previous assignments to check your work. Keep track of your work in a Google document or markdown file that you can submit below and share with your mentor.\n",
    "\n",
    " 1. Greg was 14, Marcia was 12, Peter was 11, Jan was 10, Bobby was 8, and Cindy was 6 when they started playing the Brady kids on The Brady Bunch.  Cousin Oliver was 8 years old when he joined the show. What are the mean, median, and mode of the kids' ages when they first appeared on the show? What are the variance, standard deviation, and standard error?\n",
    " 2. Using these estimates, if you had to choose only one estimate of central tendency and one estimate of variance to describe the data, which would you pick and why?\n",
    " 3. Next, Cindy has a birthday. Update your estimates- what changed, and what didn't?\n",
    " 4. Nobody likes Cousin Oliver. Maybe the network should have used an even younger actor. Replace Cousin Oliver with 1-year-old Jessica, then recalculate again.  Does this change your choice of central tendency or variance estimation methods?\n",
    " 5. On the 50th anniversary of The Brady Bunch, four different magazines asked their readers whether they were fans of the show.  The answers were:\n",
    "    TV Guide            20% fans\n",
    "    Entertainment Weekly    23% fans\n",
    "    Pop Culture Today       17% fans\n",
    "    SciPhi Phanatic     5% fans\n",
    "\n",
    " Based on these numbers, what percentage of adult Americans would you estimate were Brady Bunch fans on the 50th anniversary of the show?\n",
    "\n",
    "Discuss your answer to each of these questions, along with your code, with your mentor.\n",
    "\n",
    "When you've given it a try, you can find a solution [here](https://github.com/Thinkful-Ed/data-201-resources/blob/master/solutions/Prep%20course/3.1.4.ipynb)."
   ]
  },
  {
   "cell_type": "code",
   "execution_count": 5,
   "metadata": {},
   "outputs": [
    {
     "name": "stdout",
     "output_type": "stream",
     "text": [
      "\n",
      "Mean is 9.86.\n",
      "\n",
      "Median is 10.00.\n",
      "\n",
      "Mode is 8.00.\n",
      "\n",
      "             age\n",
      "count   7.000000\n",
      "mean    9.857143\n",
      "std     2.734262\n",
      "min     6.000000\n",
      "25%     8.000000\n",
      "50%    10.000000\n",
      "75%    11.500000\n",
      "max    14.000000\n",
      "\n",
      "Variance is 6.41.\n",
      "\n",
      "Standard Deviation is 2.53.\n",
      "2.531435020952764\n",
      "\n",
      "Standard Error is 0.96.\n",
      "0.9567925036515135\n"
     ]
    }
   ],
   "source": [
    "import numpy as np\n",
    "import pandas as pd\n",
    "import statistics\n",
    "%matplotlib inline\n",
    "\n",
    "\n",
    "age=[14, 12, 11, 10, 8, 6, 8]\n",
    "name = ['Greg', 'Marcia', 'Peter', 'Jan', 'Bobby', 'Cindy', 'Oliver']\n",
    "\n",
    "#create a black dataframe \n",
    "data=pd.DataFrame()\n",
    "\n",
    "#put data into the dataframe\n",
    "data['name']=name\n",
    "data['age']=age\n",
    "\n",
    "#find mean, median and mode\n",
    "print(\"\\nMean is {:0.2f}.\".format(data['age'].mean()))\n",
    "print(\"\\nMedian is {:0.2f}.\".format(data['age'].median()))\n",
    "print(\"\\nMode is {:0.2f}.\\n\".format(statistics.mode(data['age'])))\n",
    "print(data.describe())\n",
    "print(\"\\nVariance is {:0.2f}.\".format(data.age.var(ddof=0)))\n",
    "print(\"\\nStandard Deviation is {:0.2f}.\".format(data.age.std(ddof=0)))\n",
    "print(np.std(age))\n",
    "print(\"\\nStandard Error is {:0.2f}.\".format(data.age.sem(ddof=0)))\n",
    "print(np.std(data['age']) / np.sqrt(len(data['age'])))"
   ]
  },
  {
   "cell_type": "markdown",
   "metadata": {},
   "source": [
    "## Part 1 Mean, Median, Mode, Var, Std, and SE\n",
    "Mean, median, and mode are 9.86, 10, and 8, respectively.  Variance, Standard deviation, and standard error are 6.41, 2.53, and 0.96, respectively.  Numpy's std function have a default setting of ddof=0, instead of 1 - as it is better used for calculate population std.  Pandas std default is for ddof = 1"
   ]
  },
  {
   "cell_type": "markdown",
   "metadata": {},
   "source": [
    "## Part 2 Representation of Central Tendency\n",
    "\n",
    "I'd pick mean and std to represent the central tendency and the variance of the data.  Actually the data is normally distributed and does not have outliners.  Therefore, both mean and median work for central tendency purposes.  "
   ]
  },
  {
   "cell_type": "code",
   "execution_count": 6,
   "metadata": {},
   "outputs": [
    {
     "name": "stdout",
     "output_type": "stream",
     "text": [
      "\n",
      "Mean is 10.00.\n",
      "\n",
      "Median is 10.00.\n",
      "\n",
      "Mode is 8.00.\n",
      "\n",
      "             age\n",
      "count   7.000000\n",
      "mean   10.000000\n",
      "std     2.516611\n",
      "min     7.000000\n",
      "25%     8.000000\n",
      "50%    10.000000\n",
      "75%    11.500000\n",
      "max    14.000000\n",
      "\n",
      "Variance is 5.43.\n",
      "\n",
      "Standard Deviation is 2.33.\n",
      "\n",
      "Standard Error is 0.88.\n"
     ]
    }
   ],
   "source": [
    "## Cindy is now 7 yo\n",
    "age[5]=7\n",
    "data['age']=age\n",
    "\n",
    "print(\"\\nMean is {:0.2f}.\".format(data['age'].mean()))\n",
    "print(\"\\nMedian is {:0.2f}.\".format(data['age'].median()))\n",
    "print(\"\\nMode is {:0.2f}.\\n\".format(statistics.mode(data['age'])))\n",
    "print(data.describe())\n",
    "print(\"\\nVariance is {:0.2f}.\".format(data.age.var(ddof=0)))\n",
    "print(\"\\nStandard Deviation is {:0.2f}.\".format(data.age.std(ddof=0)))\n",
    "print(\"\\nStandard Error is {:0.2f}.\".format(data.age.sem(ddof=0)))\n"
   ]
  },
  {
   "cell_type": "markdown",
   "metadata": {},
   "source": [
    "## Part 3 Cindy's Birthday\n",
    "After Cindy's birthday, the mean, median and mode are 10, 10, and 8.  Variance, Std, and SE are 5.43, 2.33, and 0.88, respectively.  The median and mode remain the same but all other variables changes. "
   ]
  },
  {
   "cell_type": "code",
   "execution_count": 7,
   "metadata": {},
   "outputs": [
    {
     "name": "stdout",
     "output_type": "stream",
     "text": [
      "\n",
      "Mean is 9.00.\n",
      "\n",
      "Median is 10.00.\n",
      "\n",
      "no mode is found\n",
      "             age\n",
      "count   7.000000\n",
      "mean    9.000000\n",
      "std     4.242641\n",
      "min     1.000000\n",
      "25%     7.500000\n",
      "50%    10.000000\n",
      "75%    11.500000\n",
      "max    14.000000\n",
      "\n",
      "Variance is 15.43.\n",
      "\n",
      "Standard Deviation is 3.93.\n",
      "\n",
      "Standard Error is 1.48.\n"
     ]
    }
   ],
   "source": [
    "age[6]=1\n",
    "name[6]='Jessica'\n",
    "\n",
    "data['name']=name\n",
    "data['age']=age\n",
    "\n",
    "print(\"\\nMean is {:0.2f}.\".format(data['age'].mean()))\n",
    "print(\"\\nMedian is {:0.2f}.\".format(data['age'].median()))\n",
    "#print(\"\\nMode is {:0.2f}.\\n\".format(statistics.mode(data['age'])))\n",
    "\n",
    "try: \n",
    "    print(\"\\nMode is {:0.2f}.\\n\".format(statistics.mode(data['age'])))\n",
    "except:\n",
    "    print(\"\\nno mode is found\")\n",
    "\n",
    "print(data.describe())\n",
    "print(\"\\nVariance is {:0.2f}.\".format(data.age.var(ddof=0)))\n",
    "print(\"\\nStandard Deviation is {:0.2f}.\".format(data.age.std(ddof=0)))\n",
    "print(\"\\nStandard Error is {:0.2f}.\".format(data.age.sem(ddof=0)))"
   ]
  },
  {
   "cell_type": "markdown",
   "metadata": {},
   "source": [
    "## Part 4 Jessica replaces Oliver\n",
    "\n",
    "Mean and median is 9 and 10.  Mode does not exist.  Variance, Std, and SE are 15.43, 3.93, and 1.48.  I'd pick median to describe the central tendency and use first and 3rd qudratile to describe the variance of the data.  Jessica's age (1) is an extreme outlier in the sample that changes the mean and std drastically.  \n"
   ]
  },
  {
   "cell_type": "markdown",
   "metadata": {},
   "source": [
    "## Part 5 Fan\n",
    "I'd say approximately 20% of the general population are the fans of Brady Bunch.  This is from the general consensus and the data point from Scifi can be considered as an outlier.    "
   ]
  }
 ],
 "metadata": {
  "kernelspec": {
   "display_name": "Python 3",
   "language": "python",
   "name": "python3"
  },
  "language_info": {
   "codemirror_mode": {
    "name": "ipython",
    "version": 3
   },
   "file_extension": ".py",
   "mimetype": "text/x-python",
   "name": "python",
   "nbconvert_exporter": "python",
   "pygments_lexer": "ipython3",
   "version": "3.7.1"
  }
 },
 "nbformat": 4,
 "nbformat_minor": 2
}
